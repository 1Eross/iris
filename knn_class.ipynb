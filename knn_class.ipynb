{
 "cells": [
  {
   "cell_type": "code",
   "execution_count": 1,
   "id": "ee7404ac-3dcc-442f-8504-407134cf05bd",
   "metadata": {},
   "outputs": [],
   "source": [
    "import polars as pl\n",
    "import numpy as np\n",
    "import matplotlib.pyplot as plt\n",
    "import seaborn as sns"
   ]
  },
  {
   "cell_type": "code",
   "execution_count": 2,
   "id": "437d73bb-063e-4bf0-80bf-d03b5b13b9c0",
   "metadata": {},
   "outputs": [],
   "source": [
    "def load_data():\n",
    "    from sklearn.datasets import load_iris\n",
    "    return load_iris().data, load_iris().target"
   ]
  },
  {
   "cell_type": "code",
   "execution_count": 3,
   "id": "a37bc30e-6e1e-4481-8a88-6c2adbeea581",
   "metadata": {},
   "outputs": [
    {
     "name": "stdout",
     "output_type": "stream",
     "text": [
      "(150, 4) (150,)\n"
     ]
    }
   ],
   "source": [
    "X, y = load_data()\n",
    "print(X.shape, y.shape)"
   ]
  },
  {
   "cell_type": "code",
   "execution_count": 4,
   "id": "78e48774-7c0c-4be7-9065-47ea012f0830",
   "metadata": {},
   "outputs": [],
   "source": [
    "from sklearn.model_selection import train_test_split\n",
    "\n",
    "X_train, X_test, y_train, y_test = train_test_split(X, y, test_size=0.2)"
   ]
  },
  {
   "cell_type": "markdown",
   "id": "71983059-e34d-473b-a6eb-aea44d18613b",
   "metadata": {},
   "source": [
    "## Реализовать будем ручной Kernel KNN с Гауссовским ядром"
   ]
  },
  {
   "cell_type": "markdown",
   "id": "24dda91e-8158-4094-b735-4a6c1a97f49a",
   "metadata": {},
   "source": [
    "Формула класса нашего объекта определиться как:\n",
    "\n",
    "### 1. Для общего случая\n",
    "Пусть дана обучающая выборка $X = (x_i, y_i)^N_{i=1}$, где $x_i \\in X \\in R$, а $y_i \\in Y = \\{1, ..., c\\}$. Пусть также задана некоторая симметричная по своим аргументам функция расстояния $\\rho: X \\times X \\rightarrow [0, +\\infty)$. Тогда нам необходимо среди ближайших k соседей (расстояние до которых меньше чем до других) выбрать наиболее встречающийся класс для нашего объекта $u$. Найденных $k$ соседей обозначим как $X_k(u) = x^{(1)}_u, ..., x^{(k)}_u$.\n",
    "\n",
    "Тогда опишем задачу как:\n",
    "$$ \\forall x_{in} \\in X_k(u); \\space\\space \\forall x_{out} \\in X \\setminus X_k (u): \\rho(u, x_{in}) \\le \\rho(u, x_{out})$$\n",
    "\n",
    "Метку класса объекта $x_u^{(i)}$ обозначим как $y_u^{(i)}$. Тогда, будем присваивать нашему классифицируемому объекту метку класса, наиболее встречающегося между соседями:\n",
    "\n",
    "$$a(u) = {\\arg\\max}_{y \\in Y} \\sum_i^k \\mathbb{I}\\left[ y_u^{(i)} = y\\right]$$\n",
    "\n",
    "### 2. Взвешенный KNN\n",
    "Полученная функция не учитывает расстояния объектов от нашего класс. объекта $u$, т. е. все объекты, даже самые дальние соседи вносят равнозначный вклад в предсказываемый класс. Чтобы это изменить используют взвешанный KNN. Общая формула которого принимает вид:\n",
    "\n",
    "$$a(u) = {\\arg\\max}_{y \\in Y} \\sum_i^k w_i\\mathbb{I}\\left[ y_u^{(i)} = y\\right]$$\n",
    "\n",
    "где $w_i$ - вес $i$ соседа. \n",
    "\n",
    "Способов выбора весов множество, но все они делятся на 2 группы:\n",
    "\n",
    "1. Вес выбирается в зависимости от порядкогового номера в списке ближайших соседей отсортированном по увеличению функции расстояния от $u$\n",
    "2. Вес - функция от расстояния\n",
    "\n",
    "#### 2.1  \n",
    "1. Линейный вес: $w_i = \\frac{k+1-i}{k}$\n",
    "2. Экспоненциальный вес: $w_i = q^i \\space (0 < q < 1)$\n",
    "\n",
    "#### 2.2 Ядерная функция.\n",
    "\n",
    "Функция должна обладать следующими свойствами:\n",
    "\n",
    "1. Положительна на области определения\n",
    "2. Монотонно возрастающая\n",
    "\n",
    "Общая формула ядерных функций:\n",
    "$$K: \\mathbb{R} \\rightarrow \\mathbb{R}$$\n",
    "$$a(u)= \\arg\\max_{y_i \\in \\mathbb {Y}} K \\left( \\frac{\\rho(u, x_u^{(i)})}{h}\\right) \\mathbb{I}\\left[ y_u^{(i)} = y\\right] $$\n",
    "Существует множество функций но самые часто-используемые ядра:\n",
    "\n",
    "1. Гауссовская ядерная функция:\n",
    "$$K(x) = \\frac{1}{\\sqrt{2\\pi}}\\exp{\\left(-2x^2\\right)}$$\n",
    "2. Прямоугольное ядро:\n",
    "$$K(x) = \\frac{1}{2} \\mathbb{I} \\left[ \\left| x \\right| \\le 1 \\right]$$\n",
    "Реализуем модель KNN с гауссовским ядром при помощи отдельного класса"
   ]
  },
  {
   "cell_type": "markdown",
   "id": "c9715ba3-2a77-4f8b-a226-5e0bcb60f052",
   "metadata": {
    "jp-MarkdownHeadingCollapsed": true
   },
   "source": [
    "#### Пошаговая реализация"
   ]
  },
  {
   "cell_type": "code",
   "execution_count": 6,
   "id": "3d71d7d2-f90f-4364-a9ba-7442f880775e",
   "metadata": {},
   "outputs": [],
   "source": [
    "# (n, m) -> (n, 1, m)\n",
    "# -\n",
    "# (c, n)\n",
    "\n",
    "# (n, 1, m)\n",
    "# -\n",
    "# (m, c) -> (1, c, m)\n",
    "\n",
    "# (n, 1, m)\n",
    "# -\n",
    "# (1, c, m)"
   ]
  },
  {
   "cell_type": "code",
   "execution_count": 8,
   "id": "7161b21a-5fde-47d6-874d-5dd7fa1acf39",
   "metadata": {
    "scrolled": true
   },
   "outputs": [
    {
     "data": {
      "text/plain": [
       "array([[[ 1.4, -0.6,  2.9,  1.2],\n",
       "        [ 1.8,  0. ,  2.9,  1.3],\n",
       "        [ 1.6, -0.2,  2.7,  0.9],\n",
       "        ...,\n",
       "        [-0.1,  0.1, -1.1, -0.7],\n",
       "        [ 0.6,  0.5, -1.2,  0. ],\n",
       "        [ 0.3,  0.4, -0.9, -0.5]],\n",
       "\n",
       "       [[-0.5, -0.6,  0.1,  0. ],\n",
       "        [-0.1,  0. ,  0.1,  0.1],\n",
       "        [-0.3, -0.2, -0.1, -0.3],\n",
       "        ...,\n",
       "        [-2. ,  0.1, -3.9, -1.9],\n",
       "        [-1.3,  0.5, -4. , -1.2],\n",
       "        [-1.6,  0.4, -3.7, -1.7]],\n",
       "\n",
       "       [[ 0.4,  0.1,  0.2,  0.1],\n",
       "        [ 0.8,  0.7,  0.2,  0.2],\n",
       "        [ 0.6,  0.5,  0. , -0.2],\n",
       "        ...,\n",
       "        [-1.1,  0.8, -3.8, -1.8],\n",
       "        [-0.4,  1.2, -3.9, -1.1],\n",
       "        [-0.7,  1.1, -3.6, -1.6]],\n",
       "\n",
       "       ...,\n",
       "\n",
       "       [[-0.2, -0.2, -0.1,  0.1],\n",
       "        [ 0.2,  0.4, -0.1,  0.2],\n",
       "        [ 0. ,  0.2, -0.3, -0.2],\n",
       "        ...,\n",
       "        [-1.7,  0.5, -4.1, -1.8],\n",
       "        [-1. ,  0.9, -4.2, -1.1],\n",
       "        [-1.3,  0.8, -3.9, -1.6]],\n",
       "\n",
       "       [[-0.7, -0.1, -0.5,  0. ],\n",
       "        [-0.3,  0.5, -0.5,  0.1],\n",
       "        [-0.5,  0.3, -0.7, -0.3],\n",
       "        ...,\n",
       "        [-2.2,  0.6, -4.5, -1.9],\n",
       "        [-1.5,  1. , -4.6, -1.2],\n",
       "        [-1.8,  0.9, -4.3, -1.7]],\n",
       "\n",
       "       [[-0.8, -1.4, -0.2,  0.1],\n",
       "        [-0.4, -0.8, -0.2,  0.2],\n",
       "        [-0.6, -1. , -0.4, -0.2],\n",
       "        ...,\n",
       "        [-2.3, -0.7, -4.2, -1.8],\n",
       "        [-1.6, -0.3, -4.3, -1.1],\n",
       "        [-1.9, -0.4, -4. , -1.6]]])"
      ]
     },
     "execution_count": 8,
     "metadata": {},
     "output_type": "execute_result"
    }
   ],
   "source": [
    "X_train[:, np.newaxis, :] - X_test"
   ]
  },
  {
   "cell_type": "code",
   "execution_count": 9,
   "id": "9f5d8cb0-e39f-438c-8c72-b581bca773be",
   "metadata": {},
   "outputs": [
    {
     "data": {
      "text/plain": [
       "(30, 120)"
      ]
     },
     "execution_count": 9,
     "metadata": {},
     "output_type": "execute_result"
    }
   ],
   "source": [
    "distances = np.sqrt(((X_train[:, np.newaxis, :] - X_test)**2).sum(axis=2)).T\n",
    "distances.shape"
   ]
  },
  {
   "cell_type": "code",
   "execution_count": 10,
   "id": "064d548c-faef-4513-b5cf-12c92ae97774",
   "metadata": {},
   "outputs": [],
   "source": [
    "#(30, 120)\n",
    "#(120)"
   ]
  },
  {
   "cell_type": "code",
   "execution_count": 11,
   "id": "aafdf86e-d3ac-43f9-9a9e-d6ad1d08e583",
   "metadata": {},
   "outputs": [
    {
     "data": {
      "text/plain": [
       "array([[ 58,   9,   5, ...,  79,   4,  71],\n",
       "       [ 41,   1,  95, ...,  79,   4,  71],\n",
       "       [ 72, 100,  17, ...,  79,   4,  71],\n",
       "       ...,\n",
       "       [ 37, 110,  67, ..., 119, 109, 118],\n",
       "       [ 98,  62,  87, ...,  63, 109, 118],\n",
       "       [107,  44,  87, ..., 119, 109, 118]], dtype=int64)"
      ]
     },
     "execution_count": 11,
     "metadata": {},
     "output_type": "execute_result"
    }
   ],
   "source": [
    "sorted_idx = np.argsort(distances, axis=1)\n",
    "sorted_idx"
   ]
  },
  {
   "cell_type": "code",
   "execution_count": 12,
   "id": "633579c2-2e81-483a-b9bd-68e4cba555b3",
   "metadata": {
    "scrolled": true
   },
   "outputs": [
    {
     "data": {
      "text/plain": [
       "array([[ 58,   9,   5,  48,  64],\n",
       "       [ 41,   1,  95,  55,  49],\n",
       "       [ 72, 100,  17, 114,  56],\n",
       "       [ 11,  92,  80,  94,  14],\n",
       "       [ 69,  93, 113,  21, 102],\n",
       "       [109,  83,  24,   3,  20],\n",
       "       [112, 105,  46, 116,  73],\n",
       "       [ 12, 106,  72,   1, 114],\n",
       "       [102,  69,  21,  93, 113],\n",
       "       [ 78,  36,  11,  77,  34],\n",
       "       [102,  38,  67, 107, 115],\n",
       "       [ 81,  18,  62,  77,  52],\n",
       "       [ 73, 105, 112,  26,   7],\n",
       "       [ 74,   0,  61, 104,  99],\n",
       "       [ 19,  45,  65, 116, 112],\n",
       "       [ 97,  46, 105,  80,  73],\n",
       "       [ 58,  86,   5,  16,  64],\n",
       "       [ 62,  84,  81,  77,  18],\n",
       "       [109,  24,  20,   3,  83],\n",
       "       [ 96,  29,  84,  77,  14],\n",
       "       [ 41,   1,  55,  88,  95],\n",
       "       [ 69, 110, 113,  93,  21],\n",
       "       [ 58,  56,  68,   9,  25],\n",
       "       [ 24,   3,  12, 106,  20],\n",
       "       [ 81,  77,  14,  62,  18],\n",
       "       [ 79,  71,  10,  23,  47],\n",
       "       [ 96,  29,  84,  77,  14],\n",
       "       [ 37, 110,  67,  21,  87],\n",
       "       [ 98,  62,  87,  40,  52],\n",
       "       [107,  44,  87,  98,  81]], dtype=int64)"
      ]
     },
     "execution_count": 12,
     "metadata": {},
     "output_type": "execute_result"
    }
   ],
   "source": [
    "knn = sorted_idx[:, :5]\n",
    "knn"
   ]
  },
  {
   "cell_type": "code",
   "execution_count": 13,
   "id": "6e095369-3a83-446b-8884-d674aceb6a55",
   "metadata": {
    "scrolled": true
   },
   "outputs": [
    {
     "data": {
      "text/plain": [
       "array([[0, 0, 0, 0, 0],\n",
       "       [0, 0, 0, 0, 0],\n",
       "       [0, 0, 0, 0, 0],\n",
       "       [1, 1, 1, 1, 2],\n",
       "       [2, 2, 2, 2, 2],\n",
       "       [0, 0, 0, 0, 0],\n",
       "       [1, 1, 1, 1, 1],\n",
       "       [0, 0, 0, 0, 0],\n",
       "       [2, 2, 2, 2, 2],\n",
       "       [1, 1, 1, 2, 1],\n",
       "       [2, 2, 2, 2, 2],\n",
       "       [2, 1, 2, 2, 2],\n",
       "       [1, 1, 1, 1, 1],\n",
       "       [1, 1, 1, 1, 1],\n",
       "       [1, 1, 1, 1, 1],\n",
       "       [1, 1, 1, 1, 1],\n",
       "       [0, 0, 0, 0, 0],\n",
       "       [2, 2, 2, 2, 1],\n",
       "       [0, 0, 0, 0, 0],\n",
       "       [2, 2, 2, 2, 2],\n",
       "       [0, 0, 0, 0, 0],\n",
       "       [2, 2, 2, 2, 2],\n",
       "       [0, 0, 0, 0, 0],\n",
       "       [0, 0, 0, 0, 0],\n",
       "       [2, 2, 2, 2, 1],\n",
       "       [2, 2, 2, 2, 2],\n",
       "       [2, 2, 2, 2, 2],\n",
       "       [2, 2, 2, 2, 2],\n",
       "       [2, 2, 2, 2, 2],\n",
       "       [2, 2, 2, 2, 2]])"
      ]
     },
     "execution_count": 13,
     "metadata": {},
     "output_type": "execute_result"
    }
   ],
   "source": [
    "knn_targets = y_train[knn]\n",
    "knn_targets"
   ]
  },
  {
   "cell_type": "code",
   "execution_count": 15,
   "id": "63538afe-3725-4def-8ee7-0585325552bd",
   "metadata": {
    "scrolled": true
   },
   "outputs": [
    {
     "data": {
      "text/plain": [
       "array([[0.08714442, 0.36919197, 0.38812084, 0.36781009, 0.00400509],\n",
       "       [0.0752877 , 0.39744905, 0.34294386, 0.39398654, 0.002763  ],\n",
       "       [0.10472279, 0.387636  , 0.36781009, 0.37853811, 0.00508511],\n",
       "       [0.37524035, 0.08074667, 0.09862421, 0.0607986 , 0.14657932],\n",
       "       [0.24287982, 0.01375382, 0.02001169, 0.00944105, 0.28148151],\n",
       "       [0.04024826, 0.37383583, 0.27418875, 0.38666812, 0.00099259],\n",
       "       [0.33405871, 0.13329527, 0.13838875, 0.10498492, 0.08176234],\n",
       "       [0.09606901, 0.39006631, 0.35118626, 0.37901158, 0.00465325],\n",
       "       [0.28502211, 0.02200604, 0.03217909, 0.01560462, 0.26179631],\n",
       "       [0.3828207 , 0.07054965, 0.09715588, 0.05338697, 0.17548731],\n",
       "       [0.32176348, 0.03011631, 0.04305881, 0.02167841, 0.24136655],\n",
       "       [0.3463905 , 0.04729085, 0.05747308, 0.0342973 , 0.17417608],\n",
       "       [0.33826065, 0.14475849, 0.15799553, 0.11573658, 0.08237786],\n",
       "       [0.39398654, 0.06187194, 0.08979836, 0.04612323, 0.1889187 ],\n",
       "       [0.31186386, 0.15010225, 0.14639621, 0.11970935, 0.0640758 ],\n",
       "       [0.34725756, 0.10710576, 0.11660787, 0.0824809 , 0.10537936],\n",
       "       [0.07914778, 0.3463905 , 0.38570265, 0.35118626, 0.00358342],\n",
       "       [0.34423231, 0.0552886 , 0.06471977, 0.0402986 , 0.16588864],\n",
       "       [0.05167979, 0.38618508, 0.30226882, 0.39447933, 0.00154893],\n",
       "       [0.32216594, 0.0520038 , 0.05863412, 0.03809438, 0.156815  ],\n",
       "       [0.07767759, 0.39794617, 0.34423231, 0.39447933, 0.00290829],\n",
       "       [0.29406968, 0.01877576, 0.02850464, 0.01308304, 0.28324627],\n",
       "       [0.08206952, 0.36369542, 0.38425898, 0.36415032, 0.00341291],\n",
       "       [0.06343823, 0.39006631, 0.33239258, 0.39546676, 0.00223685],\n",
       "       [0.36735061, 0.06233772, 0.07748363, 0.04635442, 0.16588864],\n",
       "       [0.17179755, 0.00356109, 0.00653758, 0.00221182, 0.35030939],\n",
       "       [0.32216594, 0.0520038 , 0.05863412, 0.03809438, 0.156815  ],\n",
       "       [0.32176348, 0.02299017, 0.03472871, 0.01605976, 0.27763762],\n",
       "       [0.30876076, 0.03538602, 0.04194322, 0.02471887, 0.1920137 ],\n",
       "       [0.33868374, 0.03574165, 0.04635442, 0.02540807, 0.21487721]])"
      ]
     },
     "execution_count": 15,
     "metadata": {},
     "output_type": "execute_result"
    }
   ],
   "source": [
    "gaussian_distances = np.exp(-(distances[:, :5]/2)**2/2)/np.sqrt(2 * np.pi)\n",
    "gaussian_distances"
   ]
  },
  {
   "cell_type": "markdown",
   "id": "36006687-a74e-4825-83f4-b0bef68543cf",
   "metadata": {},
   "source": [
    "Дальше нужно свести матрицу дистанций к матрице размера (с, z). z - кол-во классов в общучающем датасете. Где каждой ячейкой строки будет являться значение равное сумме весов умноженной на соответсиве классов (Формула взвешанного KNN)"
   ]
  },
  {
   "cell_type": "code",
   "execution_count": null,
   "id": "d3fd65cb-cd48-4c0d-bbb3-c7cfb476905a",
   "metadata": {},
   "outputs": [],
   "source": [
    "# np.unique to knn_targets broadcasting\n",
    "# (c, k)\n",
    "# (z) -> (z, 1, 1)\n",
    "# (z, c, k)"
   ]
  },
  {
   "cell_type": "code",
   "execution_count": null,
   "id": "cfe7c6e7-c351-4178-9827-83adb1036b68",
   "metadata": {},
   "outputs": [],
   "source": [
    "# (z, c, k)\n",
    "# (c, k) -> (1, c, k)\n",
    "# (z, c, k)"
   ]
  },
  {
   "cell_type": "code",
   "execution_count": 75,
   "id": "5e934088-c66c-4044-8524-c748f749279b",
   "metadata": {},
   "outputs": [],
   "source": [
    "test = np.unique(y_train)[:, np.newaxis, np.newaxis] == knn_targets"
   ]
  },
  {
   "cell_type": "code",
   "execution_count": 113,
   "id": "e15079f1-5c3b-4e84-bebe-71d2d6355de4",
   "metadata": {
    "scrolled": true
   },
   "outputs": [
    {
     "data": {
      "text/plain": [
       "array([[1.21627242, 0.        , 0.        ],\n",
       "       [1.21243014, 0.        , 0.        ],\n",
       "       [1.24379209, 0.        , 0.        ],\n",
       "       [0.        , 0.61540983, 0.14657932],\n",
       "       [0.        , 0.        , 0.56756788],\n",
       "       [1.07593355, 0.        , 0.        ],\n",
       "       [0.        , 0.79248999, 0.        ],\n",
       "       [1.22098641, 0.        , 0.        ],\n",
       "       [0.        , 0.        , 0.61660815],\n",
       "       [0.        , 0.72601355, 0.05338697],\n",
       "       [0.        , 0.        , 0.65798355],\n",
       "       [0.        , 0.04729085, 0.61233697],\n",
       "       [0.        , 0.83912911, 0.        ],\n",
       "       [0.        , 0.78069877, 0.        ],\n",
       "       [0.        , 0.79214748, 0.        ],\n",
       "       [0.        , 0.75883144, 0.        ],\n",
       "       [1.16601061, 0.        , 0.        ],\n",
       "       [0.        , 0.16588864, 0.50453928],\n",
       "       [1.13616195, 0.        , 0.        ],\n",
       "       [0.        , 0.        , 0.62771323],\n",
       "       [1.21724369, 0.        , 0.        ],\n",
       "       [0.        , 0.        , 0.63767939],\n",
       "       [1.19758715, 0.        , 0.        ],\n",
       "       [1.18360073, 0.        , 0.        ],\n",
       "       [0.        , 0.16588864, 0.5535264 ],\n",
       "       [0.        , 0.        , 0.53441743],\n",
       "       [0.        , 0.        , 0.62771323],\n",
       "       [0.        , 0.        , 0.67317974],\n",
       "       [0.        , 0.        , 0.60282257],\n",
       "       [0.        , 0.        , 0.66106509]])"
      ]
     },
     "execution_count": 113,
     "metadata": {},
     "output_type": "execute_result"
    }
   ],
   "source": [
    "w_matrix = (test * gaussian_distances).sum(axis=2)\n",
    "w_matrix.T"
   ]
  },
  {
   "cell_type": "code",
   "execution_count": 115,
   "id": "de652139-8265-4070-8ee0-036f5291fa67",
   "metadata": {},
   "outputs": [
    {
     "data": {
      "text/plain": [
       "array([0, 0, 0, 1, 2, 0, 1, 0, 2, 1, 2, 2, 1, 1, 1, 1, 0, 2, 0, 2, 0, 2,\n",
       "       0, 0, 2, 2, 2, 2, 2, 2], dtype=int64)"
      ]
     },
     "execution_count": 115,
     "metadata": {},
     "output_type": "execute_result"
    }
   ],
   "source": [
    "c_matrix = np.argmax(w_matrix, axis=0)\n",
    "c_matrix"
   ]
  },
  {
   "cell_type": "code",
   "execution_count": 118,
   "id": "03e20995-0294-49a7-906e-e938902023b5",
   "metadata": {
    "scrolled": true
   },
   "outputs": [
    {
     "data": {
      "text/plain": [
       "array([[1.        , 0.        , 0.        ],\n",
       "       [1.        , 0.        , 0.        ],\n",
       "       [1.        , 0.        , 0.        ],\n",
       "       [0.        , 0.80763594, 0.19236406],\n",
       "       [0.        , 0.        , 1.        ],\n",
       "       [1.        , 0.        , 0.        ],\n",
       "       [0.        , 1.        , 0.        ],\n",
       "       [1.        , 0.        , 0.        ],\n",
       "       [0.        , 0.        , 1.        ],\n",
       "       [0.        , 0.93150252, 0.06849748],\n",
       "       [0.        , 0.        , 1.        ],\n",
       "       [0.        , 0.07169323, 0.92830677],\n",
       "       [0.        , 1.        , 0.        ],\n",
       "       [0.        , 1.        , 0.        ],\n",
       "       [0.        , 1.        , 0.        ],\n",
       "       [0.        , 1.        , 0.        ],\n",
       "       [1.        , 0.        , 0.        ],\n",
       "       [0.        , 0.24743695, 0.75256305],\n",
       "       [1.        , 0.        , 0.        ],\n",
       "       [0.        , 0.        , 1.        ],\n",
       "       [1.        , 0.        , 0.        ],\n",
       "       [0.        , 0.        , 1.        ],\n",
       "       [1.        , 0.        , 0.        ],\n",
       "       [1.        , 0.        , 0.        ],\n",
       "       [0.        , 0.23058823, 0.76941177],\n",
       "       [0.        , 0.        , 1.        ],\n",
       "       [0.        , 0.        , 1.        ],\n",
       "       [0.        , 0.        , 1.        ],\n",
       "       [0.        , 0.        , 1.        ],\n",
       "       [0.        , 0.        , 1.        ]])"
      ]
     },
     "execution_count": 118,
     "metadata": {},
     "output_type": "execute_result"
    }
   ],
   "source": [
    "proba_matrix = (w_matrix / w_matrix.sum(axis=0))\n",
    "proba_matrix.T"
   ]
  },
  {
   "cell_type": "markdown",
   "id": "06d7d52a-8b0e-484f-94de-735106d871ee",
   "metadata": {},
   "source": [
    "#### Готовый класс"
   ]
  },
  {
   "cell_type": "code",
   "execution_count": 18,
   "id": "1d509728-0c10-4403-a684-1834f92d4b17",
   "metadata": {},
   "outputs": [],
   "source": [
    "class KernelKnnClassifier():\n",
    "    def __init__(self, n_neibghours: int = 5, *, h: float, metric: str = 'euclidean', kernel: str = 'gaussian'):\n",
    "        self.n_neibghours = n_neibghours\n",
    "        self.metric = metric\n",
    "        self.kernel = kernel\n",
    "        self.h = h\n",
    "        self.X = None\n",
    "        self.y = None\n",
    "        is_fitted = False\n",
    "        \n",
    "    def fit(self, X: np.ndarray, y: np.ndarray) -> None:\n",
    "        self.X = X\n",
    "        self.n = X.shape[0]\n",
    "        self.m = X.shape[1]\n",
    "        self.y = y\n",
    "        self.c_val = np.unique(y)\n",
    "        self.is_fitted = True\n",
    "        \n",
    "    def predict(self, X: np.ndarray, *, return_proba: bool = False) -> np.ndarray:\n",
    "        assert self.is_fitted == True, 'You should fit the model before'\n",
    "        assert X.ndim == 2, 'Input matrix should be 2 dimensional'\n",
    "        assert X.shape[1] == self.X.shape[1], 'Number of features must be equal with training dataset'\n",
    "        \n",
    "        #Find nearest neibghours\n",
    "        if self.metric == 'euclidean':\n",
    "            distances = self.__calc_eucledean(self.X, X) ## (c, n)\n",
    "        else:\n",
    "            raise ValueError(\"Wrong metric argument\")\n",
    "\n",
    "        sorted_idx = np.argsort(distances, axis=1)\n",
    "        knn_target = self.y[sorted_idx[:, :self.n_neibghours]]\n",
    "\n",
    "        #Apply weights to distances\n",
    "        if self.kernel == 'rectangular':\n",
    "            weights = np.full_like(distances[:, :self.n_neibghours], 0.5)\n",
    "        elif self.kernel == 'gaussian':\n",
    "            weights = self.__calc_gaussian(distances[:, :self.n_neibghours]) #c, k\n",
    "        else:\n",
    "            raise ValueError(\"Wrong kernel argument\")\n",
    "\n",
    "        weight_matrix = ((self.c_val[:, np.newaxis, np.newaxis] == knn_target) * weights).sum(axis=2) #z, c\n",
    "        proba_matrix = weight_matrix / weight_matrix.sum(axis=0) #z, c\n",
    "\n",
    "        #Return predict\n",
    "        if return_proba == False:\n",
    "            return np.argmax(weight_matrix, axis=0)\n",
    "        else:\n",
    "            return proba_matrix.T\n",
    "               \n",
    "    def __calc_eucledean(self, X: np.ndarray, u: np.ndarray) -> np.ndarray:\n",
    "        return np.sqrt(((X[:, np.newaxis, :] - u)**2).sum(axis=2)).T\n",
    "\n",
    "    def __calc_gaussian(self, X: np.ndarray) -> np.ndarray:\n",
    "        return np.exp(-2*(X/self.h)**2)/np.sqrt(2 * np.pi)\n",
    "        "
   ]
  },
  {
   "cell_type": "code",
   "execution_count": 19,
   "id": "3a2a466b-6436-4da0-82ea-9a605172d03b",
   "metadata": {
    "scrolled": true
   },
   "outputs": [
    {
     "data": {
      "text/plain": [
       "array([[1.00000000e+00, 0.00000000e+00, 0.00000000e+00],\n",
       "       [1.00000000e+00, 0.00000000e+00, 0.00000000e+00],\n",
       "       [1.00000000e+00, 0.00000000e+00, 0.00000000e+00],\n",
       "       [0.00000000e+00, 2.26138861e-01, 7.73861139e-01],\n",
       "       [0.00000000e+00, 0.00000000e+00, 1.00000000e+00],\n",
       "       [0.00000000e+00, 1.84591734e-04, 9.99815408e-01],\n",
       "       [0.00000000e+00, 0.00000000e+00, 1.00000000e+00],\n",
       "       [0.00000000e+00, 1.00000000e+00, 0.00000000e+00],\n",
       "       [0.00000000e+00, 1.00000000e+00, 0.00000000e+00],\n",
       "       [0.00000000e+00, 0.00000000e+00, 1.00000000e+00],\n",
       "       [0.00000000e+00, 1.00000000e+00, 0.00000000e+00],\n",
       "       [0.00000000e+00, 1.00000000e+00, 0.00000000e+00],\n",
       "       [1.00000000e+00, 0.00000000e+00, 0.00000000e+00],\n",
       "       [0.00000000e+00, 0.00000000e+00, 1.00000000e+00],\n",
       "       [0.00000000e+00, 9.99326589e-01, 6.73410608e-04],\n",
       "       [1.00000000e+00, 0.00000000e+00, 0.00000000e+00],\n",
       "       [0.00000000e+00, 0.00000000e+00, 1.00000000e+00],\n",
       "       [0.00000000e+00, 0.00000000e+00, 1.00000000e+00],\n",
       "       [1.00000000e+00, 0.00000000e+00, 0.00000000e+00],\n",
       "       [0.00000000e+00, 1.00000000e+00, 0.00000000e+00],\n",
       "       [1.00000000e+00, 0.00000000e+00, 0.00000000e+00],\n",
       "       [1.00000000e+00, 0.00000000e+00, 0.00000000e+00],\n",
       "       [1.00000000e+00, 0.00000000e+00, 0.00000000e+00],\n",
       "       [0.00000000e+00, 1.00000000e+00, 0.00000000e+00],\n",
       "       [1.00000000e+00, 0.00000000e+00, 0.00000000e+00],\n",
       "       [0.00000000e+00, 0.00000000e+00, 1.00000000e+00],\n",
       "       [0.00000000e+00, 1.00000000e+00, 0.00000000e+00],\n",
       "       [0.00000000e+00, 0.00000000e+00, 1.00000000e+00],\n",
       "       [0.00000000e+00, 2.70561257e-01, 7.29438743e-01],\n",
       "       [0.00000000e+00, 1.00000000e+00, 0.00000000e+00]])"
      ]
     },
     "execution_count": 19,
     "metadata": {},
     "output_type": "execute_result"
    }
   ],
   "source": [
    "classifier = KernelKnnClassifier(5, h=2, kernel='gaussian')\n",
    "classifier.fit(X_train, y_train)\n",
    "classifier.predict(X_test, return_proba=True)"
   ]
  },
  {
   "cell_type": "code",
   "execution_count": 20,
   "id": "188083be-abb4-47db-a3f2-f996ae2e05ba",
   "metadata": {
    "scrolled": true
   },
   "outputs": [
    {
     "data": {
      "text/plain": [
       "array([[1.        , 0.        , 0.        ],\n",
       "       [1.        , 0.        , 0.        ],\n",
       "       [1.        , 0.        , 0.        ],\n",
       "       [0.        , 0.29791809, 0.70208191],\n",
       "       [0.        , 0.        , 1.        ],\n",
       "       [0.        , 0.12858452, 0.87141548],\n",
       "       [0.        , 0.        , 1.        ],\n",
       "       [0.        , 1.        , 0.        ],\n",
       "       [0.        , 1.        , 0.        ],\n",
       "       [0.        , 0.        , 1.        ],\n",
       "       [0.        , 1.        , 0.        ],\n",
       "       [0.        , 1.        , 0.        ],\n",
       "       [1.        , 0.        , 0.        ],\n",
       "       [0.        , 0.        , 1.        ],\n",
       "       [0.        , 0.87128259, 0.12871741],\n",
       "       [1.        , 0.        , 0.        ],\n",
       "       [0.        , 0.        , 1.        ],\n",
       "       [0.        , 0.        , 1.        ],\n",
       "       [1.        , 0.        , 0.        ],\n",
       "       [0.        , 1.        , 0.        ],\n",
       "       [1.        , 0.        , 0.        ],\n",
       "       [1.        , 0.        , 0.        ],\n",
       "       [1.        , 0.        , 0.        ],\n",
       "       [0.        , 1.        , 0.        ],\n",
       "       [1.        , 0.        , 0.        ],\n",
       "       [0.        , 0.        , 1.        ],\n",
       "       [0.        , 1.        , 0.        ],\n",
       "       [0.        , 0.        , 1.        ],\n",
       "       [0.        , 0.18671648, 0.81328352],\n",
       "       [0.        , 1.        , 0.        ]])"
      ]
     },
     "execution_count": 20,
     "metadata": {},
     "output_type": "execute_result"
    }
   ],
   "source": [
    "from sklearn.neighbors import KNeighborsClassifier\n",
    "\n",
    "sk_classifier = KNeighborsClassifier(5, weights='distance', algorithm='brute')\n",
    "sk_classifier.fit(X_train, y_train)\n",
    "sk_classifier.predict_proba(X_test)"
   ]
  },
  {
   "cell_type": "code",
   "execution_count": 21,
   "id": "52c44f42-b46d-428d-b085-7b8e1980eaad",
   "metadata": {},
   "outputs": [
    {
     "data": {
      "text/plain": [
       "(1,)"
      ]
     },
     "execution_count": 21,
     "metadata": {},
     "output_type": "execute_result"
    }
   ],
   "source": [
    "self_predict.shape"
   ]
  },
  {
   "cell_type": "code",
   "execution_count": 23,
   "id": "ddd5c4a7-82b2-41b4-a30f-63909c71f741",
   "metadata": {},
   "outputs": [
    {
     "name": "stdout",
     "output_type": "stream",
     "text": [
      "Self weighted KNN predictor f1 score 0.9666666666666667\n",
      "Sklearn weighted KNN predictor f1 score 0.9866666666666667\n"
     ]
    }
   ],
   "source": [
    "from sklearn.model_selection import KFold\n",
    "from sklearn.metrics import f1_score\n",
    "\n",
    "self_f1 = []\n",
    "sk_f1 = []\n",
    "k_number = 10\n",
    "\n",
    "kf = KFold(X.shape[0], shuffle=True)\n",
    "for i, (train_index, test_index) in enumerate(kf.split(X)):\n",
    "    self_classifier = KernelKnnClassifier(k_number, h=1, kernel='rectangular')\n",
    "    self_classifier.fit(X[train_index], y[train_index])\n",
    "    self_predict = self_classifier.predict(X[test_index], return_proba=False)\n",
    "    self_f1.append(f1_score(self_predict, y[test_index], average='weighted'))\n",
    "\n",
    "    sk_classifier = KNeighborsClassifier(k_number, weights='distance', algorithm='brute')\n",
    "    sk_classifier.fit(X_train, y_train)\n",
    "    sk_predict = sk_classifier.predict(X[test_index])\n",
    "    sk_f1.append(f1_score(sk_predict, y[test_index], average='weighted'))\n",
    "\n",
    "print('Self weighted KNN predictor f1 score', np.array(self_f1).mean())\n",
    "print('Sklearn weighted KNN predictor f1 score', np.array(sk_f1).mean())"
   ]
  },
  {
   "cell_type": "code",
   "execution_count": null,
   "id": "5373d274-6534-487f-9b32-33a858c35526",
   "metadata": {},
   "outputs": [],
   "source": []
  }
 ],
 "metadata": {
  "kernelspec": {
   "display_name": "Python 3 (ipykernel)",
   "language": "python",
   "name": "python3"
  },
  "language_info": {
   "codemirror_mode": {
    "name": "ipython",
    "version": 3
   },
   "file_extension": ".py",
   "mimetype": "text/x-python",
   "name": "python",
   "nbconvert_exporter": "python",
   "pygments_lexer": "ipython3",
   "version": "3.12.11"
  }
 },
 "nbformat": 4,
 "nbformat_minor": 5
}
