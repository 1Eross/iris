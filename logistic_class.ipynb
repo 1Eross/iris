{
 "cells": [
  {
   "cell_type": "code",
   "execution_count": 1,
   "id": "fdfa4512-84fa-475c-bc9c-440d4451ab07",
   "metadata": {},
   "outputs": [],
   "source": [
    "import polars as pl\n",
    "import numpy as np\n",
    "import matplotlib.pyplot as plt\n",
    "import seaborn as sns"
   ]
  },
  {
   "cell_type": "code",
   "execution_count": 2,
   "id": "caf12ef9-bf98-4d16-8601-366d3bfc3ef8",
   "metadata": {},
   "outputs": [],
   "source": [
    "def load_data():\n",
    "    from sklearn.datasets import load_iris\n",
    "    return load_iris().data, load_iris().target"
   ]
  },
  {
   "cell_type": "code",
   "execution_count": 3,
   "id": "14a14eca-76e8-4ec3-917f-bf59c3af6e9f",
   "metadata": {},
   "outputs": [
    {
     "name": "stdout",
     "output_type": "stream",
     "text": [
      "(150, 4) (150,)\n"
     ]
    }
   ],
   "source": [
    "X, y = load_data()\n",
    "print(X.shape, y.shape)"
   ]
  },
  {
   "cell_type": "code",
   "execution_count": 4,
   "id": "08b4d7bc-1bf7-4b69-abef-e28de6c65bc1",
   "metadata": {},
   "outputs": [],
   "source": [
    "from sklearn.model_selection import train_test_split\n",
    "\n",
    "X_train, X_test, y_train, y_test = train_test_split(X, y, test_size=0.2)"
   ]
  },
  {
   "cell_type": "markdown",
   "id": "3a5a6001-a489-4662-a33f-82b44ad64402",
   "metadata": {},
   "source": [
    "### Логистическая регрессия"
   ]
  },
  {
   "cell_type": "markdown",
   "id": "fee4ef92-210f-4c63-93a0-d3fa039f8604",
   "metadata": {},
   "source": [
    "#### Вывод"
   ]
  },
  {
   "cell_type": "markdown",
   "id": "d66511cf-a086-4d80-a7ad-3556001f12e2",
   "metadata": {},
   "source": [
    "Идея: Имея линейную регрессию мы можем преобразовать область выходных значений так, чтобы ограничить выход линейной регрессией в области $[0, 1]$\n",
    "\n",
    "Имеем следующее уравнение линейной регрессии:\n",
    "$$y = \\left<x, w \\right>, \\space x \\in \\mathbb{R}^{n \\times d}, \\space y \\in \\mathbb{R}$$\n",
    "\n",
    "Нам необходимо свести его к следующей форме:\n",
    "$$y_c \\Leftarrow \\left<x, w \\right>, \\space x \\in \\mathbb{R}^{n \\times d}, \\space y_c \\in \\{0, 1\\}$$\n",
    "\n",
    "Далее для удобства представим, что $\\left<x, w \\right>$ генерируют вероятность\n",
    "\n",
    "$$P \\Leftarrow \\left<x, w \\right>, \\space x \\in \\mathbb{R}^{n \\times d}, \\space P \\in [0, 1]$$\n",
    "\n",
    "Все еще нельзя заменить $\\Leftarrow$ на равенство. Поэтому представим выход модели как шансы - отношения вероятностей.\n",
    "\n",
    "$$\\frac{P}{1-P} \\Leftarrow \\left<x, w \\right>, \\space x \\in \\mathbb{R}^{n \\times d},\\space \\frac{P}{1-P} \\in (0, +\\infty)$$\n",
    "\n",
    "Дальше самым логичным ходом будет представить результат как логарифм от шансов. Область значений логарифма нам отлично подходит. И тогда мы сможем заменить $\\Leftarrow$ на равенство.\n",
    "\n",
    "$$\\log \\left(\\frac{P}{1-P}\\right) = \\left<x, w \\right>, \\space x \\in \\mathbb{R}^{n \\times d},\\space \\log \\left(\\frac{P}{1-P}\\right) \\in (-\\infty, +\\infty)$$\n",
    "Видим, что область определения и область значений нашей функции сошлись.\n",
    "$$y = \\left<x, w \\right>, \\space x \\in \\mathbb{R}^{n \\times d}, \\space y \\in \\mathbb{R}$$\n",
    "В результате мы представили область значений так, что мы сможем получить нашу вероятность принадлежности одному из классов.\n",
    "\n",
    "Отсюда выводится следующее понятие:\n",
    "\n",
    "***Логит (logit, log odds)*** - логарифм взятый от шанса, который позволяет линейной комбинации признаков быть представленной как вероятность события.\n",
    "\n",
    "Далее из полученной формулы выведем нашу вероятность.\n",
    "\n",
    "Сначала проэкспонируем обе части равенства, чтобы избавиться от логарифма. \n",
    "$$\\log \\left(\\frac{P}{1-P}\\right) = \\left<x, w \\right> \\rightarrow \\frac{P}{1-P} = e^{\\left<x, w \\right>} $$\n",
    "$$ P =  e^{\\left<x, w \\right>} + pe^{\\left<x, w \\right>} \\rightarrow e^{\\left<x, w \\right>} = P + pe^{\\left<x, w \\right>} \\rightarrow e^{\\left<x, w \\right>} = P \\left( 1 + e^{\\left<x, w \\right>} \\right)$$\n",
    "$$P = \\frac{e^{\\left<x, w \\right>}}{1 + e^{\\left<x, w \\right>}} \\rightarrow P = \\frac{e^{\\left<x, w \\right>}}{1 + e^{\\left<x, w \\right>}} \\frac{e^{-\\left<x, w \\right>}}{e^{-\\left<x, w \\right>}} \\rightarrow P = \\frac{1}{1 + e^{-\\left<x, w \\right>}}$$"
   ]
  },
  {
   "cell_type": "markdown",
   "id": "523367c6-8e15-4261-894e-b9861e052894",
   "metadata": {},
   "source": [
    "Полученная функция называется сигмойдой. И обозначается как $\\sigma(z) = \\frac{1}{1 + e^{-z}}$\n",
    "\n",
    "Таким образом:\n",
    "$$P = \\sigma(\\left< w, x\\right>)$$"
   ]
  },
  {
   "cell_type": "code",
   "execution_count": 5,
   "id": "deb7dcae-edbe-462e-b0d0-aa8b099acffe",
   "metadata": {},
   "outputs": [
    {
     "data": {
      "image/png": "[encoded data removed]",
      "text/plain": [
       "<Figure size 1000x400 with 1 Axes>"
      ]
     },
     "metadata": {},
     "output_type": "display_data"
    }
   ],
   "source": [
    "fig, ax = plt.subplots(figsize=(10, 4))\n",
    "ax.set_title('График сигмоиды')\n",
    "ax.scatter(np.linspace(-6, 6, 1000), 1 / (1 + np.exp(-1 * np.linspace(-6, 6, 1000))), s=0.5)\n",
    "\n",
    "ax.spines['left'].set_position('zero')\n",
    "ax.spines['top'].set_visible(False)\n",
    "ax.spines['right'].set_visible(False)\n",
    "\n",
    "plt.yticks(np.linspace(0, 1, 9))\n",
    "\n",
    "plt.subplots_adjust(left=4, right=5)"
   ]
  },
  {
   "cell_type": "markdown",
   "id": "ddef9307-fc3b-4c97-aac8-6d9db7d49679",
   "metadata": {},
   "source": [
    "Нам необходимо оценить то, как хорошо наша модель определяет класс объекта. Т. к. задача логистической регрессии определяется для бинарной классификации, то оценить то, насколько результаты наших предсказаний правдивы, поможет функция правдоподобия. "
   ]
  },
  {
   "cell_type": "markdown",
   "id": "5be88e1c-e9cd-4b53-bc95-d1db813507fc",
   "metadata": {},
   "source": [
    "При составлении логистической регрессии для оценки модели **мы составляем функцию потерь, которая потом оптимизируется для получения наилучшего результата**. \n",
    "\n",
    "Вывод функции потерь начинается с того, что **отправной точкой для рассчета функции потерь мы можем использовать функцию правдоподобия посчитанную для распределения Бернулли**. Распределение Бернулли здесь подходит из-за того, что логистическая регрессия используется для бинарной классификации, а распределение Бернулли описывает вероятности двух противоположных событий, что можно интерпритировать как наши два класса {0, 1}. \n",
    "\n",
    "**Функцию правдоподобия мы составляем потому, что она позволяет оценить то, как наш вектор весов w составлен правильно в соответствии с реальными прецедентами (данными)**. Это можно описать следующим предложением: \"Насколько правдоподобно то, что данные представленные в выборке тренировочных таргетов являются правильными, если мы используем параметр w\""
   ]
  },
  {
   "cell_type": "markdown",
   "id": "ca0b38d2-3cc5-4780-be8f-e7c7ffdcf353",
   "metadata": {},
   "source": [
    "Функция правдоподобия для распределения Бернулли:\n",
    "$$L(y, p) = \\prod_{i=1}^{n} p^{y_i} (1 - p)^{1 - y_i}$$\n",
    "\n",
    "Для гладкости функции и легкости оптимизации возьмем log от нашей функции правдободобия. Это справедливо, т. к. логарифм - монотонная функция.\n",
    "\n",
    "$$\\log(L(y, p)) = \\sum_i^{n} y_i \\log(p) + (1-y_i) \\log(1 - p)$$\n",
    "\n",
    "Нам необходимо максимизировать правдоподобие, но раз уж принято, что мы все подряд минимизируем, то сведем задачу к минимизации отрицательного правдоподобия:\n",
    "\n",
    "$ L(X, w, y) = - \\sum_i^{n} y_i \\log(p) + (1 - y_i) \\log(1 - p) \\rightarrow \\min_w $ \n",
    "\n",
    "Далее заменим вероятность на выведенную ранее формулу:\n",
    "\n",
    "$$L(X, w, y) = - \\sum_i^{n} y_i \\log(\\sigma(\\left< x, w\\right>)) + (1 - y_i) \\log(1 - \\left< x, w\\right>) \\rightarrow \\min_w$$\n",
    "\n",
    "Для удобства совершим следующее преобразование. Можно заметить, что:\n",
    "$$\\sigma(-x) = \\frac{1}{1 + e^x} = \\frac{1}{1 + e^x} \\frac{e^{-x}}{e^{-x}} = \\frac{e^{-x}}{e^{-x} + 1} = 1 - \\frac{1}{1 + e^{-x}} = 1 - \\sigma(x)$$\n",
    "$$\\downarrow$$\n",
    "$$L(X, w, y) = - \\sum_i^{n} y_i \\log(\\sigma(\\left< x, w\\right>)) + (1 - y_i) \\log(-\\left< x, w\\right>) \\rightarrow \\min_w$$"
   ]
  },
  {
   "cell_type": "markdown",
   "id": "2ea30030-4ff4-4199-b89d-1aa14edb52a8",
   "metadata": {},
   "source": [
    "Далее нам необходимо продифференцировать нашу полученную функцию потерь по w.\n",
    "\n",
    "- Дописать дифф"
   ]
  },
  {
   "cell_type": "markdown",
   "id": "4032b5d6-1ce8-47f8-aab3-5f8de79e8c42",
   "metadata": {},
   "source": [
    "#### В результате всех действий получаем:\n",
    "$$p = \\sigma(\\left<x, w \\right>) = \\frac{1}{1 + e^{-\\left<x, w \\right>}}$$\n",
    "$$L(x, w, y) = \\sum_i^n y_i\\log(\\sigma(\\left<x_i, w \\right>)) + (1 - y_i)\\log(\\sigma(-\\left<x_i, w \\right>))$$\n",
    "$$\\nabla L(x, w, y) = -\\sum_i^n x_i(y_i - \\sigma(\\left<x_i, w\\right>)$$"
   ]
  },
  {
   "cell_type": "code",
   "execution_count": 6,
   "id": "9c439a37-0aca-40ab-a148-99eac45cffff",
   "metadata": {},
   "outputs": [
    {
     "data": {
      "text/plain": [
       "array([2, 0, 2, 1, 0, 2, 1, 0, 0, 1, 0, 1, 2, 2, 2, 0, 0, 0, 2, 2, 2, 1,\n",
       "       0, 1, 0, 0, 2, 0, 0, 0, 0, 2, 1, 2, 2, 1, 2, 0, 0, 2, 2, 0, 1, 1,\n",
       "       0, 1, 2, 0, 1, 0, 1, 2, 1, 1, 1, 2, 1, 1, 1, 2, 0, 1, 1, 0, 2, 0,\n",
       "       1, 0, 0, 1, 0, 0, 1, 2, 2, 0, 1, 2, 2, 0, 0, 0, 0, 1, 0, 2, 1, 2,\n",
       "       0, 2, 2, 1, 1, 2, 0, 1, 1, 1, 1, 0, 1, 1, 2, 1, 0, 1, 0, 0, 2, 2,\n",
       "       1, 0, 2, 0, 1, 2, 1, 1, 2, 2])"
      ]
     },
     "execution_count": 6,
     "metadata": {},
     "output_type": "execute_result"
    }
   ],
   "source": [
    "y_train"
   ]
  },
  {
   "cell_type": "code",
   "execution_count": 7,
   "id": "1cd811fa-ad41-409c-bffd-89925f009ea3",
   "metadata": {},
   "outputs": [
    {
     "data": {
      "text/plain": [
       "array([0, 1, 0, 0, 1, 0, 0, 1, 1, 0, 1, 0, 0, 0, 0, 1, 1, 1, 0, 0, 0, 0,\n",
       "       1, 0, 1, 1, 0, 1, 1, 1, 1, 0, 0, 0, 0, 0, 0, 1, 1, 0, 0, 1, 0, 0,\n",
       "       1, 0, 0, 1, 0, 1, 0, 0, 0, 0, 0, 0, 0, 0, 0, 0, 1, 0, 0, 1, 0, 1,\n",
       "       0, 1, 1, 0, 1, 1, 0, 0, 0, 1, 0, 0, 0, 1, 1, 1, 1, 0, 1, 0, 0, 0,\n",
       "       1, 0, 0, 0, 0, 0, 1, 0, 0, 0, 0, 1, 0, 0, 0, 0, 1, 0, 1, 1, 0, 0,\n",
       "       0, 1, 0, 1, 0, 0, 0, 0, 0, 0])"
      ]
     },
     "execution_count": 7,
     "metadata": {},
     "output_type": "execute_result"
    }
   ],
   "source": [
    "y_train_setosa = np.where(y_train > 0, 0, 1)\n",
    "y_train_setosa"
   ]
  },
  {
   "cell_type": "code",
   "execution_count": 8,
   "id": "8eb9d155-2122-413c-bb7d-774fcd9c4e9c",
   "metadata": {},
   "outputs": [
    {
     "data": {
      "text/plain": [
       "array([0, 0, 0, 0, 0, 0, 1, 0, 0, 0, 1, 0, 0, 0, 0, 1, 0, 1, 0, 0, 1, 1,\n",
       "       0, 1, 0, 0, 0, 0, 1, 0])"
      ]
     },
     "execution_count": 8,
     "metadata": {},
     "output_type": "execute_result"
    }
   ],
   "source": [
    "y_test_setosa = np.where(y_test > 0, 0, 1)\n",
    "y_test_setosa"
   ]
  },
  {
   "cell_type": "code",
   "execution_count": 9,
   "id": "03a4da12-b91f-4830-a1b2-cae09f10ad32",
   "metadata": {},
   "outputs": [
    {
     "data": {
      "text/plain": [
       "(120, 4)"
      ]
     },
     "execution_count": 9,
     "metadata": {},
     "output_type": "execute_result"
    }
   ],
   "source": [
    "X_train.shape"
   ]
  },
  {
   "cell_type": "code",
   "execution_count": 10,
   "id": "bd000694-eb5e-4574-ae43-b205d6d94c16",
   "metadata": {},
   "outputs": [],
   "source": [
    "def sigm(x: np.ndarray) -> np.ndarray:\n",
    "    return 1 / (1 + np.exp(-x))"
   ]
  },
  {
   "cell_type": "code",
   "execution_count": 11,
   "id": "e07aa945-1cf3-4095-9e47-3575fa3032c6",
   "metadata": {},
   "outputs": [],
   "source": [
    "w = np.random.normal(size=X_train.shape[1])"
   ]
  },
  {
   "cell_type": "code",
   "execution_count": 12,
   "id": "89d99c5b-4fa9-495c-9eff-1ada9521e1cb",
   "metadata": {
    "scrolled": true
   },
   "outputs": [
    {
     "name": "stdout",
     "output_type": "stream",
     "text": [
      "771.5307386385805\n",
      "0.6517304068606774\n",
      "0.3817498599105361\n",
      "0.27396317087099464\n",
      "0.21522773739729545\n",
      "0.17801625913114838\n",
      "0.1522208387732231\n",
      "0.13323183207163353\n",
      "0.11863860086206458\n",
      "0.1070545871913463\n",
      "0.09762416031973756\n"
     ]
    }
   ],
   "source": [
    "for i in range(1000):    \n",
    "    loss = -(y_train_setosa * np.log(sigm(X_train @ w)) + (1 - y_train_setosa) * np.log(sigm(- X_train @ w))).sum()\n",
    "    if i % 100 == 0:\n",
    "        print(loss)\n",
    "    grad = -(X_train * (y_train_setosa - sigm(X_train @ w))[:, np.newaxis]).sum(axis=0)\n",
    "    w -= 0.01 * grad\n",
    "loss = -(y_train_setosa * np.log(sigm(X_train @ w)) + (1 - y_train_setosa) * np.log(sigm(- X_train @ w))).sum()\n",
    "print(loss)"
   ]
  },
  {
   "cell_type": "code",
   "execution_count": 13,
   "id": "632e70d0-8cf8-43e7-b56e-ee945cf6f1bc",
   "metadata": {},
   "outputs": [
    {
     "data": {
      "text/plain": [
       "array([0, 0, 0, 0, 0, 0, 1, 0, 0, 0, 1, 0, 0, 0, 0, 1, 0, 1, 0, 0, 1, 1,\n",
       "       0, 1, 0, 0, 0, 0, 1, 0])"
      ]
     },
     "execution_count": 13,
     "metadata": {},
     "output_type": "execute_result"
    }
   ],
   "source": [
    "pred = np.where(sigm(X_test @ w) > 0.7, 1, 0)\n",
    "pred"
   ]
  },
  {
   "cell_type": "code",
   "execution_count": 14,
   "id": "30000a4f-9239-4b2e-a729-f040b9ea5ad4",
   "metadata": {},
   "outputs": [
    {
     "data": {
      "text/plain": [
       "array([0, 0, 0, 0, 0, 0, 1, 0, 0, 0, 1, 0, 0, 0, 0, 1, 0, 1, 0, 0, 1, 1,\n",
       "       0, 1, 0, 0, 0, 0, 1, 0])"
      ]
     },
     "execution_count": 14,
     "metadata": {},
     "output_type": "execute_result"
    }
   ],
   "source": [
    "y_test_setosa"
   ]
  },
  {
   "cell_type": "code",
   "execution_count": 15,
   "id": "f43ceaf1-c855-46fe-aaf9-33442037185b",
   "metadata": {},
   "outputs": [
    {
     "data": {
      "text/plain": [
       "1.0"
      ]
     },
     "execution_count": 15,
     "metadata": {},
     "output_type": "execute_result"
    }
   ],
   "source": [
    "from sklearn.metrics import f1_score\n",
    "\n",
    "f1_score(y_test_setosa, pred)"
   ]
  },
  {
   "cell_type": "code",
   "execution_count": null,
   "id": "b0bd029d-a1bc-464c-8b92-74223d5fd0bc",
   "metadata": {},
   "outputs": [],
   "source": [
    "class LogisticRegression():\n",
    "    '''\n",
    "    Selfmade class for implementing simple logistic regression\n",
    "    (without regularization)\n",
    "    Optimization metod - stochastic gradient desctent with two variations of steps\n",
    "    Multiclass classification is emplemented with all-vs-all approach\n",
    "    '''\n",
    "    def __init__():\n",
    "        pass\n",
    "        \n",
    "    def __"
   ]
  }
 ],
 "metadata": {
  "kernelspec": {
   "display_name": "Python 3 (ipykernel)",
   "language": "python",
   "name": "python3"
  },
  "language_info": {
   "codemirror_mode": {
    "name": "ipython",
    "version": 3
   },
   "file_extension": ".py",
   "mimetype": "text/x-python",
   "name": "python",
   "nbconvert_exporter": "python",
   "pygments_lexer": "ipython3",
   "version": "3.12.11"
  }
 },
 "nbformat": 4,
 "nbformat_minor": 5
}
